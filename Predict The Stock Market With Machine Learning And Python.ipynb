{
 "cells": [
  {
   "cell_type": "code",
   "execution_count": 1,
   "id": "04c71d3a",
   "metadata": {},
   "outputs": [
    {
     "name": "stdout",
     "output_type": "stream",
     "text": [
      "Looking in indexes: https://pypi.anaconda.org/ranaroussi/simple\n",
      "Collecting yfinance\n",
      "  Downloading https://pypi.anaconda.org/ranaroussi/simple/yfinance/0.1.63/yfinance-0.1.63.tar.gz (26 kB)\n",
      "Requirement already satisfied: pandas>=0.24 in /Users/Emal/opt/anaconda3/lib/python3.9/site-packages (from yfinance) (1.4.2)\n",
      "Requirement already satisfied: numpy>=1.15 in /Users/Emal/opt/anaconda3/lib/python3.9/site-packages (from yfinance) (1.21.5)\n",
      "Requirement already satisfied: requests>=2.20 in /Users/Emal/opt/anaconda3/lib/python3.9/site-packages (from yfinance) (2.31.0)\n",
      "Requirement already satisfied: multitasking>=0.0.7 in /Users/Emal/opt/anaconda3/lib/python3.9/site-packages (from yfinance) (0.0.11)\n",
      "Requirement already satisfied: lxml>=4.5.1 in /Users/Emal/opt/anaconda3/lib/python3.9/site-packages (from yfinance) (4.8.0)\n",
      "Requirement already satisfied: python-dateutil>=2.8.1 in /Users/Emal/opt/anaconda3/lib/python3.9/site-packages (from pandas>=0.24->yfinance) (2.8.2)\n",
      "Requirement already satisfied: pytz>=2020.1 in /Users/Emal/opt/anaconda3/lib/python3.9/site-packages (from pandas>=0.24->yfinance) (2023.3.post1)\n",
      "Requirement already satisfied: six>=1.5 in /Users/Emal/opt/anaconda3/lib/python3.9/site-packages (from python-dateutil>=2.8.1->pandas>=0.24->yfinance) (1.16.0)\n",
      "Requirement already satisfied: certifi>=2017.4.17 in /Users/Emal/opt/anaconda3/lib/python3.9/site-packages (from requests>=2.20->yfinance) (2022.12.7)\n",
      "Requirement already satisfied: urllib3<3,>=1.21.1 in /Users/Emal/opt/anaconda3/lib/python3.9/site-packages (from requests>=2.20->yfinance) (1.26.9)\n",
      "Requirement already satisfied: charset-normalizer<4,>=2 in /Users/Emal/opt/anaconda3/lib/python3.9/site-packages (from requests>=2.20->yfinance) (2.0.4)\n",
      "Requirement already satisfied: idna<4,>=2.5 in /Users/Emal/opt/anaconda3/lib/python3.9/site-packages (from requests>=2.20->yfinance) (3.3)\n",
      "Building wheels for collected packages: yfinance\n",
      "  Building wheel for yfinance (setup.py) ... \u001b[?25ldone\n",
      "\u001b[?25h  Created wheel for yfinance: filename=yfinance-0.1.63-py2.py3-none-any.whl size=23918 sha256=ea91e5921f88c5b9148c012b3b91eb4fb8213f20eb4567fd35156aef70623b4d\n",
      "  Stored in directory: /Users/Emal/Library/Caches/pip/wheels/1d/c6/a4/67f1aeb5c4e6cbef512e0bdb1c4e4006f69a381f417e0e246f\n",
      "Successfully built yfinance\n",
      "Installing collected packages: yfinance\n",
      "Successfully installed yfinance-0.1.63\n",
      "Note: you may need to restart the kernel to use updated packages.\n"
     ]
    }
   ],
   "source": [
    "pip install -i https://pypi.anaconda.org/ranaroussi/simple yfinance"
   ]
  },
  {
   "cell_type": "code",
   "execution_count": 11,
   "id": "a130f683",
   "metadata": {},
   "outputs": [],
   "source": [
    "import yfinance as yf\n",
    "import pandas as pd"
   ]
  },
  {
   "cell_type": "markdown",
   "id": "175dbf6d",
   "metadata": {},
   "source": [
    "The first stage would be importing the yfinance package to cause the yahoo finance API to download daily stock index prices. "
   ]
  },
  {
   "cell_type": "code",
   "execution_count": 12,
   "id": "f9024d25",
   "metadata": {},
   "outputs": [],
   "source": [
    "sp500 = yf.Ticker(\"^GSPC\")"
   ]
  },
  {
   "cell_type": "code",
   "execution_count": 14,
   "id": "2a2b73ad",
   "metadata": {},
   "outputs": [],
   "source": [
    "sp500 = pd.read_csv(\"sp500.csv\", index_col=0)"
   ]
  },
  {
   "cell_type": "code",
   "execution_count": 15,
   "id": "e6d406ca",
   "metadata": {},
   "outputs": [
    {
     "data": {
      "text/html": [
       "<div>\n",
       "<style scoped>\n",
       "    .dataframe tbody tr th:only-of-type {\n",
       "        vertical-align: middle;\n",
       "    }\n",
       "\n",
       "    .dataframe tbody tr th {\n",
       "        vertical-align: top;\n",
       "    }\n",
       "\n",
       "    .dataframe thead th {\n",
       "        text-align: right;\n",
       "    }\n",
       "</style>\n",
       "<table border=\"1\" class=\"dataframe\">\n",
       "  <thead>\n",
       "    <tr style=\"text-align: right;\">\n",
       "      <th></th>\n",
       "      <th>Open</th>\n",
       "      <th>High</th>\n",
       "      <th>Low</th>\n",
       "      <th>Close</th>\n",
       "      <th>Volume</th>\n",
       "      <th>Dividends</th>\n",
       "      <th>Stock Splits</th>\n",
       "    </tr>\n",
       "    <tr>\n",
       "      <th>Date</th>\n",
       "      <th></th>\n",
       "      <th></th>\n",
       "      <th></th>\n",
       "      <th></th>\n",
       "      <th></th>\n",
       "      <th></th>\n",
       "      <th></th>\n",
       "    </tr>\n",
       "  </thead>\n",
       "  <tbody>\n",
       "    <tr>\n",
       "      <th>1950-01-03</th>\n",
       "      <td>16.660000</td>\n",
       "      <td>16.660000</td>\n",
       "      <td>16.660000</td>\n",
       "      <td>16.660000</td>\n",
       "      <td>1260000</td>\n",
       "      <td>0</td>\n",
       "      <td>0</td>\n",
       "    </tr>\n",
       "    <tr>\n",
       "      <th>1950-01-04</th>\n",
       "      <td>16.850000</td>\n",
       "      <td>16.850000</td>\n",
       "      <td>16.850000</td>\n",
       "      <td>16.850000</td>\n",
       "      <td>1890000</td>\n",
       "      <td>0</td>\n",
       "      <td>0</td>\n",
       "    </tr>\n",
       "    <tr>\n",
       "      <th>1950-01-05</th>\n",
       "      <td>16.930000</td>\n",
       "      <td>16.930000</td>\n",
       "      <td>16.930000</td>\n",
       "      <td>16.930000</td>\n",
       "      <td>2550000</td>\n",
       "      <td>0</td>\n",
       "      <td>0</td>\n",
       "    </tr>\n",
       "    <tr>\n",
       "      <th>1950-01-06</th>\n",
       "      <td>16.980000</td>\n",
       "      <td>16.980000</td>\n",
       "      <td>16.980000</td>\n",
       "      <td>16.980000</td>\n",
       "      <td>2010000</td>\n",
       "      <td>0</td>\n",
       "      <td>0</td>\n",
       "    </tr>\n",
       "    <tr>\n",
       "      <th>1950-01-09</th>\n",
       "      <td>17.080000</td>\n",
       "      <td>17.080000</td>\n",
       "      <td>17.080000</td>\n",
       "      <td>17.080000</td>\n",
       "      <td>2520000</td>\n",
       "      <td>0</td>\n",
       "      <td>0</td>\n",
       "    </tr>\n",
       "    <tr>\n",
       "      <th>...</th>\n",
       "      <td>...</td>\n",
       "      <td>...</td>\n",
       "      <td>...</td>\n",
       "      <td>...</td>\n",
       "      <td>...</td>\n",
       "      <td>...</td>\n",
       "      <td>...</td>\n",
       "    </tr>\n",
       "    <tr>\n",
       "      <th>2022-09-06</th>\n",
       "      <td>3930.889893</td>\n",
       "      <td>3942.550049</td>\n",
       "      <td>3886.750000</td>\n",
       "      <td>3908.189941</td>\n",
       "      <td>2209800080</td>\n",
       "      <td>0</td>\n",
       "      <td>0</td>\n",
       "    </tr>\n",
       "    <tr>\n",
       "      <th>2022-09-07</th>\n",
       "      <td>3909.429932</td>\n",
       "      <td>3987.889893</td>\n",
       "      <td>3906.030029</td>\n",
       "      <td>3979.870117</td>\n",
       "      <td>0</td>\n",
       "      <td>0</td>\n",
       "      <td>0</td>\n",
       "    </tr>\n",
       "    <tr>\n",
       "      <th>2022-09-08</th>\n",
       "      <td>3959.939941</td>\n",
       "      <td>4010.500000</td>\n",
       "      <td>3944.810059</td>\n",
       "      <td>4006.179932</td>\n",
       "      <td>0</td>\n",
       "      <td>0</td>\n",
       "      <td>0</td>\n",
       "    </tr>\n",
       "    <tr>\n",
       "      <th>2022-09-09</th>\n",
       "      <td>4022.939941</td>\n",
       "      <td>4076.810059</td>\n",
       "      <td>4022.939941</td>\n",
       "      <td>4067.360107</td>\n",
       "      <td>0</td>\n",
       "      <td>0</td>\n",
       "      <td>0</td>\n",
       "    </tr>\n",
       "    <tr>\n",
       "      <th>2022-09-12</th>\n",
       "      <td>4083.669922</td>\n",
       "      <td>4119.279785</td>\n",
       "      <td>4083.669922</td>\n",
       "      <td>4107.279785</td>\n",
       "      <td>1602969000</td>\n",
       "      <td>0</td>\n",
       "      <td>0</td>\n",
       "    </tr>\n",
       "  </tbody>\n",
       "</table>\n",
       "<p>18292 rows × 7 columns</p>\n",
       "</div>"
      ],
      "text/plain": [
       "                   Open         High          Low        Close      Volume  \\\n",
       "Date                                                                         \n",
       "1950-01-03    16.660000    16.660000    16.660000    16.660000     1260000   \n",
       "1950-01-04    16.850000    16.850000    16.850000    16.850000     1890000   \n",
       "1950-01-05    16.930000    16.930000    16.930000    16.930000     2550000   \n",
       "1950-01-06    16.980000    16.980000    16.980000    16.980000     2010000   \n",
       "1950-01-09    17.080000    17.080000    17.080000    17.080000     2520000   \n",
       "...                 ...          ...          ...          ...         ...   \n",
       "2022-09-06  3930.889893  3942.550049  3886.750000  3908.189941  2209800080   \n",
       "2022-09-07  3909.429932  3987.889893  3906.030029  3979.870117           0   \n",
       "2022-09-08  3959.939941  4010.500000  3944.810059  4006.179932           0   \n",
       "2022-09-09  4022.939941  4076.810059  4022.939941  4067.360107           0   \n",
       "2022-09-12  4083.669922  4119.279785  4083.669922  4107.279785  1602969000   \n",
       "\n",
       "            Dividends  Stock Splits  \n",
       "Date                                 \n",
       "1950-01-03          0             0  \n",
       "1950-01-04          0             0  \n",
       "1950-01-05          0             0  \n",
       "1950-01-06          0             0  \n",
       "1950-01-09          0             0  \n",
       "...               ...           ...  \n",
       "2022-09-06          0             0  \n",
       "2022-09-07          0             0  \n",
       "2022-09-08          0             0  \n",
       "2022-09-09          0             0  \n",
       "2022-09-12          0             0  \n",
       "\n",
       "[18292 rows x 7 columns]"
      ]
     },
     "execution_count": 15,
     "metadata": {},
     "output_type": "execute_result"
    }
   ],
   "source": [
    "sp500"
   ]
  },
  {
   "cell_type": "code",
   "execution_count": 16,
   "id": "195bf9d8",
   "metadata": {},
   "outputs": [
    {
     "data": {
      "text/plain": [
       "Index(['1950-01-03', '1950-01-04', '1950-01-05', '1950-01-06', '1950-01-09',\n",
       "       '1950-01-10', '1950-01-11', '1950-01-12', '1950-01-13', '1950-01-16',\n",
       "       ...\n",
       "       '2022-08-29', '2022-08-30', '2022-08-31', '2022-09-01', '2022-09-02',\n",
       "       '2022-09-06', '2022-09-07', '2022-09-08', '2022-09-09', '2022-09-12'],\n",
       "      dtype='object', name='Date', length=18292)"
      ]
     },
     "execution_count": 16,
     "metadata": {},
     "output_type": "execute_result"
    }
   ],
   "source": [
    "sp500.index"
   ]
  },
  {
   "cell_type": "code",
   "execution_count": 18,
   "id": "ef8b985c",
   "metadata": {},
   "outputs": [
    {
     "data": {
      "text/plain": [
       "<AxesSubplot:xlabel='Date'>"
      ]
     },
     "execution_count": 18,
     "metadata": {},
     "output_type": "execute_result"
    },
    {
     "data": {
      "image/png": "[encoded data removed]",
      "text/plain": [
       "<Figure size 432x288 with 1 Axes>"
      ]
     },
     "metadata": {
      "needs_background": "light"
     },
     "output_type": "display_data"
    }
   ],
   "source": [
    "sp500.plot.line(y=\"Close\", use_index=True)"
   ]
  },
  {
   "cell_type": "code",
   "execution_count": 21,
   "id": "e27e0422",
   "metadata": {},
   "outputs": [],
   "source": [
    "del sp500[\"Dividends\"]"
   ]
  },
  {
   "cell_type": "code",
   "execution_count": 22,
   "id": "e0b4a5c2",
   "metadata": {},
   "outputs": [],
   "source": [
    "del sp500[\"Stock Splits\"]"
   ]
  },
  {
   "cell_type": "code",
   "execution_count": 23,
   "id": "59bb4e4e",
   "metadata": {},
   "outputs": [
    {
     "data": {
      "text/html": [
       "<div>\n",
       "<style scoped>\n",
       "    .dataframe tbody tr th:only-of-type {\n",
       "        vertical-align: middle;\n",
       "    }\n",
       "\n",
       "    .dataframe tbody tr th {\n",
       "        vertical-align: top;\n",
       "    }\n",
       "\n",
       "    .dataframe thead th {\n",
       "        text-align: right;\n",
       "    }\n",
       "</style>\n",
       "<table border=\"1\" class=\"dataframe\">\n",
       "  <thead>\n",
       "    <tr style=\"text-align: right;\">\n",
       "      <th></th>\n",
       "      <th>Open</th>\n",
       "      <th>High</th>\n",
       "      <th>Low</th>\n",
       "      <th>Close</th>\n",
       "      <th>Volume</th>\n",
       "    </tr>\n",
       "    <tr>\n",
       "      <th>Date</th>\n",
       "      <th></th>\n",
       "      <th></th>\n",
       "      <th></th>\n",
       "      <th></th>\n",
       "      <th></th>\n",
       "    </tr>\n",
       "  </thead>\n",
       "  <tbody>\n",
       "    <tr>\n",
       "      <th>1950-01-03</th>\n",
       "      <td>16.660000</td>\n",
       "      <td>16.660000</td>\n",
       "      <td>16.660000</td>\n",
       "      <td>16.660000</td>\n",
       "      <td>1260000</td>\n",
       "    </tr>\n",
       "    <tr>\n",
       "      <th>1950-01-04</th>\n",
       "      <td>16.850000</td>\n",
       "      <td>16.850000</td>\n",
       "      <td>16.850000</td>\n",
       "      <td>16.850000</td>\n",
       "      <td>1890000</td>\n",
       "    </tr>\n",
       "    <tr>\n",
       "      <th>1950-01-05</th>\n",
       "      <td>16.930000</td>\n",
       "      <td>16.930000</td>\n",
       "      <td>16.930000</td>\n",
       "      <td>16.930000</td>\n",
       "      <td>2550000</td>\n",
       "    </tr>\n",
       "    <tr>\n",
       "      <th>1950-01-06</th>\n",
       "      <td>16.980000</td>\n",
       "      <td>16.980000</td>\n",
       "      <td>16.980000</td>\n",
       "      <td>16.980000</td>\n",
       "      <td>2010000</td>\n",
       "    </tr>\n",
       "    <tr>\n",
       "      <th>1950-01-09</th>\n",
       "      <td>17.080000</td>\n",
       "      <td>17.080000</td>\n",
       "      <td>17.080000</td>\n",
       "      <td>17.080000</td>\n",
       "      <td>2520000</td>\n",
       "    </tr>\n",
       "    <tr>\n",
       "      <th>...</th>\n",
       "      <td>...</td>\n",
       "      <td>...</td>\n",
       "      <td>...</td>\n",
       "      <td>...</td>\n",
       "      <td>...</td>\n",
       "    </tr>\n",
       "    <tr>\n",
       "      <th>2022-09-06</th>\n",
       "      <td>3930.889893</td>\n",
       "      <td>3942.550049</td>\n",
       "      <td>3886.750000</td>\n",
       "      <td>3908.189941</td>\n",
       "      <td>2209800080</td>\n",
       "    </tr>\n",
       "    <tr>\n",
       "      <th>2022-09-07</th>\n",
       "      <td>3909.429932</td>\n",
       "      <td>3987.889893</td>\n",
       "      <td>3906.030029</td>\n",
       "      <td>3979.870117</td>\n",
       "      <td>0</td>\n",
       "    </tr>\n",
       "    <tr>\n",
       "      <th>2022-09-08</th>\n",
       "      <td>3959.939941</td>\n",
       "      <td>4010.500000</td>\n",
       "      <td>3944.810059</td>\n",
       "      <td>4006.179932</td>\n",
       "      <td>0</td>\n",
       "    </tr>\n",
       "    <tr>\n",
       "      <th>2022-09-09</th>\n",
       "      <td>4022.939941</td>\n",
       "      <td>4076.810059</td>\n",
       "      <td>4022.939941</td>\n",
       "      <td>4067.360107</td>\n",
       "      <td>0</td>\n",
       "    </tr>\n",
       "    <tr>\n",
       "      <th>2022-09-12</th>\n",
       "      <td>4083.669922</td>\n",
       "      <td>4119.279785</td>\n",
       "      <td>4083.669922</td>\n",
       "      <td>4107.279785</td>\n",
       "      <td>1602969000</td>\n",
       "    </tr>\n",
       "  </tbody>\n",
       "</table>\n",
       "<p>18292 rows × 5 columns</p>\n",
       "</div>"
      ],
      "text/plain": [
       "                   Open         High          Low        Close      Volume\n",
       "Date                                                                      \n",
       "1950-01-03    16.660000    16.660000    16.660000    16.660000     1260000\n",
       "1950-01-04    16.850000    16.850000    16.850000    16.850000     1890000\n",
       "1950-01-05    16.930000    16.930000    16.930000    16.930000     2550000\n",
       "1950-01-06    16.980000    16.980000    16.980000    16.980000     2010000\n",
       "1950-01-09    17.080000    17.080000    17.080000    17.080000     2520000\n",
       "...                 ...          ...          ...          ...         ...\n",
       "2022-09-06  3930.889893  3942.550049  3886.750000  3908.189941  2209800080\n",
       "2022-09-07  3909.429932  3987.889893  3906.030029  3979.870117           0\n",
       "2022-09-08  3959.939941  4010.500000  3944.810059  4006.179932           0\n",
       "2022-09-09  4022.939941  4076.810059  4022.939941  4067.360107           0\n",
       "2022-09-12  4083.669922  4119.279785  4083.669922  4107.279785  1602969000\n",
       "\n",
       "[18292 rows x 5 columns]"
      ]
     },
     "execution_count": 23,
     "metadata": {},
     "output_type": "execute_result"
    }
   ],
   "source": [
    "sp500"
   ]
  },
  {
   "cell_type": "code",
   "execution_count": 24,
   "id": "6c406824",
   "metadata": {},
   "outputs": [],
   "source": [
    "sp500[\"Tomorrow\"] = sp500[\"Close\"].shift(-1)"
   ]
  },
  {
   "cell_type": "code",
   "execution_count": 25,
   "id": "63431d1d",
   "metadata": {},
   "outputs": [
    {
     "data": {
      "text/html": [
       "<div>\n",
       "<style scoped>\n",
       "    .dataframe tbody tr th:only-of-type {\n",
       "        vertical-align: middle;\n",
       "    }\n",
       "\n",
       "    .dataframe tbody tr th {\n",
       "        vertical-align: top;\n",
       "    }\n",
       "\n",
       "    .dataframe thead th {\n",
       "        text-align: right;\n",
       "    }\n",
       "</style>\n",
       "<table border=\"1\" class=\"dataframe\">\n",
       "  <thead>\n",
       "    <tr style=\"text-align: right;\">\n",
       "      <th></th>\n",
       "      <th>Open</th>\n",
       "      <th>High</th>\n",
       "      <th>Low</th>\n",
       "      <th>Close</th>\n",
       "      <th>Volume</th>\n",
       "      <th>Tomorrow</th>\n",
       "    </tr>\n",
       "    <tr>\n",
       "      <th>Date</th>\n",
       "      <th></th>\n",
       "      <th></th>\n",
       "      <th></th>\n",
       "      <th></th>\n",
       "      <th></th>\n",
       "      <th></th>\n",
       "    </tr>\n",
       "  </thead>\n",
       "  <tbody>\n",
       "    <tr>\n",
       "      <th>1950-01-03</th>\n",
       "      <td>16.660000</td>\n",
       "      <td>16.660000</td>\n",
       "      <td>16.660000</td>\n",
       "      <td>16.660000</td>\n",
       "      <td>1260000</td>\n",
       "      <td>16.850000</td>\n",
       "    </tr>\n",
       "    <tr>\n",
       "      <th>1950-01-04</th>\n",
       "      <td>16.850000</td>\n",
       "      <td>16.850000</td>\n",
       "      <td>16.850000</td>\n",
       "      <td>16.850000</td>\n",
       "      <td>1890000</td>\n",
       "      <td>16.930000</td>\n",
       "    </tr>\n",
       "    <tr>\n",
       "      <th>1950-01-05</th>\n",
       "      <td>16.930000</td>\n",
       "      <td>16.930000</td>\n",
       "      <td>16.930000</td>\n",
       "      <td>16.930000</td>\n",
       "      <td>2550000</td>\n",
       "      <td>16.980000</td>\n",
       "    </tr>\n",
       "    <tr>\n",
       "      <th>1950-01-06</th>\n",
       "      <td>16.980000</td>\n",
       "      <td>16.980000</td>\n",
       "      <td>16.980000</td>\n",
       "      <td>16.980000</td>\n",
       "      <td>2010000</td>\n",
       "      <td>17.080000</td>\n",
       "    </tr>\n",
       "    <tr>\n",
       "      <th>1950-01-09</th>\n",
       "      <td>17.080000</td>\n",
       "      <td>17.080000</td>\n",
       "      <td>17.080000</td>\n",
       "      <td>17.080000</td>\n",
       "      <td>2520000</td>\n",
       "      <td>17.030001</td>\n",
       "    </tr>\n",
       "    <tr>\n",
       "      <th>...</th>\n",
       "      <td>...</td>\n",
       "      <td>...</td>\n",
       "      <td>...</td>\n",
       "      <td>...</td>\n",
       "      <td>...</td>\n",
       "      <td>...</td>\n",
       "    </tr>\n",
       "    <tr>\n",
       "      <th>2022-09-06</th>\n",
       "      <td>3930.889893</td>\n",
       "      <td>3942.550049</td>\n",
       "      <td>3886.750000</td>\n",
       "      <td>3908.189941</td>\n",
       "      <td>2209800080</td>\n",
       "      <td>3979.870117</td>\n",
       "    </tr>\n",
       "    <tr>\n",
       "      <th>2022-09-07</th>\n",
       "      <td>3909.429932</td>\n",
       "      <td>3987.889893</td>\n",
       "      <td>3906.030029</td>\n",
       "      <td>3979.870117</td>\n",
       "      <td>0</td>\n",
       "      <td>4006.179932</td>\n",
       "    </tr>\n",
       "    <tr>\n",
       "      <th>2022-09-08</th>\n",
       "      <td>3959.939941</td>\n",
       "      <td>4010.500000</td>\n",
       "      <td>3944.810059</td>\n",
       "      <td>4006.179932</td>\n",
       "      <td>0</td>\n",
       "      <td>4067.360107</td>\n",
       "    </tr>\n",
       "    <tr>\n",
       "      <th>2022-09-09</th>\n",
       "      <td>4022.939941</td>\n",
       "      <td>4076.810059</td>\n",
       "      <td>4022.939941</td>\n",
       "      <td>4067.360107</td>\n",
       "      <td>0</td>\n",
       "      <td>4107.279785</td>\n",
       "    </tr>\n",
       "    <tr>\n",
       "      <th>2022-09-12</th>\n",
       "      <td>4083.669922</td>\n",
       "      <td>4119.279785</td>\n",
       "      <td>4083.669922</td>\n",
       "      <td>4107.279785</td>\n",
       "      <td>1602969000</td>\n",
       "      <td>NaN</td>\n",
       "    </tr>\n",
       "  </tbody>\n",
       "</table>\n",
       "<p>18292 rows × 6 columns</p>\n",
       "</div>"
      ],
      "text/plain": [
       "                   Open         High          Low        Close      Volume  \\\n",
       "Date                                                                         \n",
       "1950-01-03    16.660000    16.660000    16.660000    16.660000     1260000   \n",
       "1950-01-04    16.850000    16.850000    16.850000    16.850000     1890000   \n",
       "1950-01-05    16.930000    16.930000    16.930000    16.930000     2550000   \n",
       "1950-01-06    16.980000    16.980000    16.980000    16.980000     2010000   \n",
       "1950-01-09    17.080000    17.080000    17.080000    17.080000     2520000   \n",
       "...                 ...          ...          ...          ...         ...   \n",
       "2022-09-06  3930.889893  3942.550049  3886.750000  3908.189941  2209800080   \n",
       "2022-09-07  3909.429932  3987.889893  3906.030029  3979.870117           0   \n",
       "2022-09-08  3959.939941  4010.500000  3944.810059  4006.179932           0   \n",
       "2022-09-09  4022.939941  4076.810059  4022.939941  4067.360107           0   \n",
       "2022-09-12  4083.669922  4119.279785  4083.669922  4107.279785  1602969000   \n",
       "\n",
       "               Tomorrow  \n",
       "Date                     \n",
       "1950-01-03    16.850000  \n",
       "1950-01-04    16.930000  \n",
       "1950-01-05    16.980000  \n",
       "1950-01-06    17.080000  \n",
       "1950-01-09    17.030001  \n",
       "...                 ...  \n",
       "2022-09-06  3979.870117  \n",
       "2022-09-07  4006.179932  \n",
       "2022-09-08  4067.360107  \n",
       "2022-09-09  4107.279785  \n",
       "2022-09-12          NaN  \n",
       "\n",
       "[18292 rows x 6 columns]"
      ]
     },
     "execution_count": 25,
     "metadata": {},
     "output_type": "execute_result"
    }
   ],
   "source": [
    "sp500"
   ]
  },
  {
   "cell_type": "code",
   "execution_count": 27,
   "id": "e1765a1a",
   "metadata": {},
   "outputs": [],
   "source": [
    "sp500[\"Target\"] = (sp500[\"Tomorrow\"] > sp500[\"Close\"]).astype(int)"
   ]
  },
  {
   "cell_type": "code",
   "execution_count": 28,
   "id": "62f54855",
   "metadata": {},
   "outputs": [
    {
     "data": {
      "text/html": [
       "<div>\n",
       "<style scoped>\n",
       "    .dataframe tbody tr th:only-of-type {\n",
       "        vertical-align: middle;\n",
       "    }\n",
       "\n",
       "    .dataframe tbody tr th {\n",
       "        vertical-align: top;\n",
       "    }\n",
       "\n",
       "    .dataframe thead th {\n",
       "        text-align: right;\n",
       "    }\n",
       "</style>\n",
       "<table border=\"1\" class=\"dataframe\">\n",
       "  <thead>\n",
       "    <tr style=\"text-align: right;\">\n",
       "      <th></th>\n",
       "      <th>Open</th>\n",
       "      <th>High</th>\n",
       "      <th>Low</th>\n",
       "      <th>Close</th>\n",
       "      <th>Volume</th>\n",
       "      <th>Tomorrow</th>\n",
       "      <th>Target</th>\n",
       "    </tr>\n",
       "    <tr>\n",
       "      <th>Date</th>\n",
       "      <th></th>\n",
       "      <th></th>\n",
       "      <th></th>\n",
       "      <th></th>\n",
       "      <th></th>\n",
       "      <th></th>\n",
       "      <th></th>\n",
       "    </tr>\n",
       "  </thead>\n",
       "  <tbody>\n",
       "    <tr>\n",
       "      <th>1950-01-03</th>\n",
       "      <td>16.660000</td>\n",
       "      <td>16.660000</td>\n",
       "      <td>16.660000</td>\n",
       "      <td>16.660000</td>\n",
       "      <td>1260000</td>\n",
       "      <td>16.850000</td>\n",
       "      <td>1</td>\n",
       "    </tr>\n",
       "    <tr>\n",
       "      <th>1950-01-04</th>\n",
       "      <td>16.850000</td>\n",
       "      <td>16.850000</td>\n",
       "      <td>16.850000</td>\n",
       "      <td>16.850000</td>\n",
       "      <td>1890000</td>\n",
       "      <td>16.930000</td>\n",
       "      <td>1</td>\n",
       "    </tr>\n",
       "    <tr>\n",
       "      <th>1950-01-05</th>\n",
       "      <td>16.930000</td>\n",
       "      <td>16.930000</td>\n",
       "      <td>16.930000</td>\n",
       "      <td>16.930000</td>\n",
       "      <td>2550000</td>\n",
       "      <td>16.980000</td>\n",
       "      <td>1</td>\n",
       "    </tr>\n",
       "    <tr>\n",
       "      <th>1950-01-06</th>\n",
       "      <td>16.980000</td>\n",
       "      <td>16.980000</td>\n",
       "      <td>16.980000</td>\n",
       "      <td>16.980000</td>\n",
       "      <td>2010000</td>\n",
       "      <td>17.080000</td>\n",
       "      <td>1</td>\n",
       "    </tr>\n",
       "    <tr>\n",
       "      <th>1950-01-09</th>\n",
       "      <td>17.080000</td>\n",
       "      <td>17.080000</td>\n",
       "      <td>17.080000</td>\n",
       "      <td>17.080000</td>\n",
       "      <td>2520000</td>\n",
       "      <td>17.030001</td>\n",
       "      <td>0</td>\n",
       "    </tr>\n",
       "    <tr>\n",
       "      <th>...</th>\n",
       "      <td>...</td>\n",
       "      <td>...</td>\n",
       "      <td>...</td>\n",
       "      <td>...</td>\n",
       "      <td>...</td>\n",
       "      <td>...</td>\n",
       "      <td>...</td>\n",
       "    </tr>\n",
       "    <tr>\n",
       "      <th>2022-09-06</th>\n",
       "      <td>3930.889893</td>\n",
       "      <td>3942.550049</td>\n",
       "      <td>3886.750000</td>\n",
       "      <td>3908.189941</td>\n",
       "      <td>2209800080</td>\n",
       "      <td>3979.870117</td>\n",
       "      <td>1</td>\n",
       "    </tr>\n",
       "    <tr>\n",
       "      <th>2022-09-07</th>\n",
       "      <td>3909.429932</td>\n",
       "      <td>3987.889893</td>\n",
       "      <td>3906.030029</td>\n",
       "      <td>3979.870117</td>\n",
       "      <td>0</td>\n",
       "      <td>4006.179932</td>\n",
       "      <td>1</td>\n",
       "    </tr>\n",
       "    <tr>\n",
       "      <th>2022-09-08</th>\n",
       "      <td>3959.939941</td>\n",
       "      <td>4010.500000</td>\n",
       "      <td>3944.810059</td>\n",
       "      <td>4006.179932</td>\n",
       "      <td>0</td>\n",
       "      <td>4067.360107</td>\n",
       "      <td>1</td>\n",
       "    </tr>\n",
       "    <tr>\n",
       "      <th>2022-09-09</th>\n",
       "      <td>4022.939941</td>\n",
       "      <td>4076.810059</td>\n",
       "      <td>4022.939941</td>\n",
       "      <td>4067.360107</td>\n",
       "      <td>0</td>\n",
       "      <td>4107.279785</td>\n",
       "      <td>1</td>\n",
       "    </tr>\n",
       "    <tr>\n",
       "      <th>2022-09-12</th>\n",
       "      <td>4083.669922</td>\n",
       "      <td>4119.279785</td>\n",
       "      <td>4083.669922</td>\n",
       "      <td>4107.279785</td>\n",
       "      <td>1602969000</td>\n",
       "      <td>NaN</td>\n",
       "      <td>0</td>\n",
       "    </tr>\n",
       "  </tbody>\n",
       "</table>\n",
       "<p>18292 rows × 7 columns</p>\n",
       "</div>"
      ],
      "text/plain": [
       "                   Open         High          Low        Close      Volume  \\\n",
       "Date                                                                         \n",
       "1950-01-03    16.660000    16.660000    16.660000    16.660000     1260000   \n",
       "1950-01-04    16.850000    16.850000    16.850000    16.850000     1890000   \n",
       "1950-01-05    16.930000    16.930000    16.930000    16.930000     2550000   \n",
       "1950-01-06    16.980000    16.980000    16.980000    16.980000     2010000   \n",
       "1950-01-09    17.080000    17.080000    17.080000    17.080000     2520000   \n",
       "...                 ...          ...          ...          ...         ...   \n",
       "2022-09-06  3930.889893  3942.550049  3886.750000  3908.189941  2209800080   \n",
       "2022-09-07  3909.429932  3987.889893  3906.030029  3979.870117           0   \n",
       "2022-09-08  3959.939941  4010.500000  3944.810059  4006.179932           0   \n",
       "2022-09-09  4022.939941  4076.810059  4022.939941  4067.360107           0   \n",
       "2022-09-12  4083.669922  4119.279785  4083.669922  4107.279785  1602969000   \n",
       "\n",
       "               Tomorrow  Target  \n",
       "Date                             \n",
       "1950-01-03    16.850000       1  \n",
       "1950-01-04    16.930000       1  \n",
       "1950-01-05    16.980000       1  \n",
       "1950-01-06    17.080000       1  \n",
       "1950-01-09    17.030001       0  \n",
       "...                 ...     ...  \n",
       "2022-09-06  3979.870117       1  \n",
       "2022-09-07  4006.179932       1  \n",
       "2022-09-08  4067.360107       1  \n",
       "2022-09-09  4107.279785       1  \n",
       "2022-09-12          NaN       0  \n",
       "\n",
       "[18292 rows x 7 columns]"
      ]
     },
     "execution_count": 28,
     "metadata": {},
     "output_type": "execute_result"
    }
   ],
   "source": [
    "sp500"
   ]
  },
  {
   "cell_type": "code",
   "execution_count": 29,
   "id": "15c62f54",
   "metadata": {},
   "outputs": [
    {
     "data": {
      "text/plain": [
       "<AxesSubplot:xlabel='Date'>"
      ]
     },
     "execution_count": 29,
     "metadata": {},
     "output_type": "execute_result"
    },
    {
     "data": {
      "image/png": "[encoded data removed]",
      "text/plain": [
       "<Figure size 432x288 with 1 Axes>"
      ]
     },
     "metadata": {
      "needs_background": "light"
     },
     "output_type": "display_data"
    }
   ],
   "source": [
    "sp500.plot()"
   ]
  },
  {
   "cell_type": "code",
   "execution_count": 30,
   "id": "05e3431e",
   "metadata": {},
   "outputs": [],
   "source": [
    "sp500 = sp500.loc[\"1990-01-01\":].copy()"
   ]
  },
  {
   "cell_type": "code",
   "execution_count": 31,
   "id": "814d5753",
   "metadata": {},
   "outputs": [
    {
     "data": {
      "text/html": [
       "<div>\n",
       "<style scoped>\n",
       "    .dataframe tbody tr th:only-of-type {\n",
       "        vertical-align: middle;\n",
       "    }\n",
       "\n",
       "    .dataframe tbody tr th {\n",
       "        vertical-align: top;\n",
       "    }\n",
       "\n",
       "    .dataframe thead th {\n",
       "        text-align: right;\n",
       "    }\n",
       "</style>\n",
       "<table border=\"1\" class=\"dataframe\">\n",
       "  <thead>\n",
       "    <tr style=\"text-align: right;\">\n",
       "      <th></th>\n",
       "      <th>Open</th>\n",
       "      <th>High</th>\n",
       "      <th>Low</th>\n",
       "      <th>Close</th>\n",
       "      <th>Volume</th>\n",
       "      <th>Tomorrow</th>\n",
       "      <th>Target</th>\n",
       "    </tr>\n",
       "    <tr>\n",
       "      <th>Date</th>\n",
       "      <th></th>\n",
       "      <th></th>\n",
       "      <th></th>\n",
       "      <th></th>\n",
       "      <th></th>\n",
       "      <th></th>\n",
       "      <th></th>\n",
       "    </tr>\n",
       "  </thead>\n",
       "  <tbody>\n",
       "    <tr>\n",
       "      <th>1990-01-02</th>\n",
       "      <td>353.399994</td>\n",
       "      <td>359.690002</td>\n",
       "      <td>351.980011</td>\n",
       "      <td>359.690002</td>\n",
       "      <td>162070000</td>\n",
       "      <td>358.760010</td>\n",
       "      <td>0</td>\n",
       "    </tr>\n",
       "    <tr>\n",
       "      <th>1990-01-03</th>\n",
       "      <td>359.690002</td>\n",
       "      <td>360.589996</td>\n",
       "      <td>357.890015</td>\n",
       "      <td>358.760010</td>\n",
       "      <td>192330000</td>\n",
       "      <td>355.670013</td>\n",
       "      <td>0</td>\n",
       "    </tr>\n",
       "  </tbody>\n",
       "</table>\n",
       "</div>"
      ],
      "text/plain": [
       "                  Open        High         Low       Close     Volume  \\\n",
       "Date                                                                    \n",
       "1990-01-02  353.399994  359.690002  351.980011  359.690002  162070000   \n",
       "1990-01-03  359.690002  360.589996  357.890015  358.760010  192330000   \n",
       "\n",
       "              Tomorrow  Target  \n",
       "Date                            \n",
       "1990-01-02  358.760010       0  \n",
       "1990-01-03  355.670013       0  "
      ]
     },
     "execution_count": 31,
     "metadata": {},
     "output_type": "execute_result"
    }
   ],
   "source": [
    "sp500.head(2)"
   ]
  },
  {
   "cell_type": "code",
   "execution_count": 41,
   "id": "4f86949a",
   "metadata": {},
   "outputs": [
    {
     "data": {
      "text/html": [
       "<div>\n",
       "<style scoped>\n",
       "    .dataframe tbody tr th:only-of-type {\n",
       "        vertical-align: middle;\n",
       "    }\n",
       "\n",
       "    .dataframe tbody tr th {\n",
       "        vertical-align: top;\n",
       "    }\n",
       "\n",
       "    .dataframe thead th {\n",
       "        text-align: right;\n",
       "    }\n",
       "</style>\n",
       "<table border=\"1\" class=\"dataframe\">\n",
       "  <thead>\n",
       "    <tr style=\"text-align: right;\">\n",
       "      <th></th>\n",
       "      <th>Open</th>\n",
       "      <th>High</th>\n",
       "      <th>Low</th>\n",
       "      <th>Close</th>\n",
       "      <th>Volume</th>\n",
       "      <th>Tomorrow</th>\n",
       "      <th>Target</th>\n",
       "    </tr>\n",
       "    <tr>\n",
       "      <th>Date</th>\n",
       "      <th></th>\n",
       "      <th></th>\n",
       "      <th></th>\n",
       "      <th></th>\n",
       "      <th></th>\n",
       "      <th></th>\n",
       "      <th></th>\n",
       "    </tr>\n",
       "  </thead>\n",
       "  <tbody>\n",
       "    <tr>\n",
       "      <th>2007-12-03</th>\n",
       "      <td>1479.630005</td>\n",
       "      <td>1481.160034</td>\n",
       "      <td>1470.079956</td>\n",
       "      <td>1472.420044</td>\n",
       "      <td>3323250000</td>\n",
       "      <td>1462.790039</td>\n",
       "      <td>0</td>\n",
       "    </tr>\n",
       "    <tr>\n",
       "      <th>2007-12-04</th>\n",
       "      <td>1471.339966</td>\n",
       "      <td>1471.339966</td>\n",
       "      <td>1460.660034</td>\n",
       "      <td>1462.790039</td>\n",
       "      <td>3343620000</td>\n",
       "      <td>1485.010010</td>\n",
       "      <td>1</td>\n",
       "    </tr>\n",
       "    <tr>\n",
       "      <th>2007-12-05</th>\n",
       "      <td>1465.219971</td>\n",
       "      <td>1486.089966</td>\n",
       "      <td>1465.219971</td>\n",
       "      <td>1485.010010</td>\n",
       "      <td>3663660000</td>\n",
       "      <td>1507.339966</td>\n",
       "      <td>1</td>\n",
       "    </tr>\n",
       "    <tr>\n",
       "      <th>2007-12-06</th>\n",
       "      <td>1484.589966</td>\n",
       "      <td>1508.020020</td>\n",
       "      <td>1482.189941</td>\n",
       "      <td>1507.339966</td>\n",
       "      <td>3568570000</td>\n",
       "      <td>1504.660034</td>\n",
       "      <td>0</td>\n",
       "    </tr>\n",
       "    <tr>\n",
       "      <th>2007-12-07</th>\n",
       "      <td>1508.599976</td>\n",
       "      <td>1510.630005</td>\n",
       "      <td>1502.660034</td>\n",
       "      <td>1504.660034</td>\n",
       "      <td>3177710000</td>\n",
       "      <td>1515.959961</td>\n",
       "      <td>1</td>\n",
       "    </tr>\n",
       "    <tr>\n",
       "      <th>...</th>\n",
       "      <td>...</td>\n",
       "      <td>...</td>\n",
       "      <td>...</td>\n",
       "      <td>...</td>\n",
       "      <td>...</td>\n",
       "      <td>...</td>\n",
       "      <td>...</td>\n",
       "    </tr>\n",
       "    <tr>\n",
       "      <th>2022-09-06</th>\n",
       "      <td>3930.889893</td>\n",
       "      <td>3942.550049</td>\n",
       "      <td>3886.750000</td>\n",
       "      <td>3908.189941</td>\n",
       "      <td>2209800080</td>\n",
       "      <td>3979.870117</td>\n",
       "      <td>1</td>\n",
       "    </tr>\n",
       "    <tr>\n",
       "      <th>2022-09-07</th>\n",
       "      <td>3909.429932</td>\n",
       "      <td>3987.889893</td>\n",
       "      <td>3906.030029</td>\n",
       "      <td>3979.870117</td>\n",
       "      <td>0</td>\n",
       "      <td>4006.179932</td>\n",
       "      <td>1</td>\n",
       "    </tr>\n",
       "    <tr>\n",
       "      <th>2022-09-08</th>\n",
       "      <td>3959.939941</td>\n",
       "      <td>4010.500000</td>\n",
       "      <td>3944.810059</td>\n",
       "      <td>4006.179932</td>\n",
       "      <td>0</td>\n",
       "      <td>4067.360107</td>\n",
       "      <td>1</td>\n",
       "    </tr>\n",
       "    <tr>\n",
       "      <th>2022-09-09</th>\n",
       "      <td>4022.939941</td>\n",
       "      <td>4076.810059</td>\n",
       "      <td>4022.939941</td>\n",
       "      <td>4067.360107</td>\n",
       "      <td>0</td>\n",
       "      <td>4107.279785</td>\n",
       "      <td>1</td>\n",
       "    </tr>\n",
       "    <tr>\n",
       "      <th>2022-09-12</th>\n",
       "      <td>4083.669922</td>\n",
       "      <td>4119.279785</td>\n",
       "      <td>4083.669922</td>\n",
       "      <td>4107.279785</td>\n",
       "      <td>1602969000</td>\n",
       "      <td>NaN</td>\n",
       "      <td>0</td>\n",
       "    </tr>\n",
       "  </tbody>\n",
       "</table>\n",
       "<p>3720 rows × 7 columns</p>\n",
       "</div>"
      ],
      "text/plain": [
       "                   Open         High          Low        Close      Volume  \\\n",
       "Date                                                                         \n",
       "2007-12-03  1479.630005  1481.160034  1470.079956  1472.420044  3323250000   \n",
       "2007-12-04  1471.339966  1471.339966  1460.660034  1462.790039  3343620000   \n",
       "2007-12-05  1465.219971  1486.089966  1465.219971  1485.010010  3663660000   \n",
       "2007-12-06  1484.589966  1508.020020  1482.189941  1507.339966  3568570000   \n",
       "2007-12-07  1508.599976  1510.630005  1502.660034  1504.660034  3177710000   \n",
       "...                 ...          ...          ...          ...         ...   \n",
       "2022-09-06  3930.889893  3942.550049  3886.750000  3908.189941  2209800080   \n",
       "2022-09-07  3909.429932  3987.889893  3906.030029  3979.870117           0   \n",
       "2022-09-08  3959.939941  4010.500000  3944.810059  4006.179932           0   \n",
       "2022-09-09  4022.939941  4076.810059  4022.939941  4067.360107           0   \n",
       "2022-09-12  4083.669922  4119.279785  4083.669922  4107.279785  1602969000   \n",
       "\n",
       "               Tomorrow  Target  \n",
       "Date                             \n",
       "2007-12-03  1462.790039       0  \n",
       "2007-12-04  1485.010010       1  \n",
       "2007-12-05  1507.339966       1  \n",
       "2007-12-06  1504.660034       0  \n",
       "2007-12-07  1515.959961       1  \n",
       "...                 ...     ...  \n",
       "2022-09-06  3979.870117       1  \n",
       "2022-09-07  4006.179932       1  \n",
       "2022-09-08  4067.360107       1  \n",
       "2022-09-09  4107.279785       1  \n",
       "2022-09-12          NaN       0  \n",
       "\n",
       "[3720 rows x 7 columns]"
      ]
     },
     "execution_count": 41,
     "metadata": {},
     "output_type": "execute_result"
    }
   ],
   "source": [
    "sp500.loc[\"2007-12-01\":]"
   ]
  },
  {
   "cell_type": "code",
   "execution_count": 42,
   "id": "2e1b5e9a",
   "metadata": {},
   "outputs": [],
   "source": [
    "from sklearn.ensemble import RandomForestClassifier"
   ]
  },
  {
   "cell_type": "code",
   "execution_count": 44,
   "id": "668d0eee",
   "metadata": {},
   "outputs": [],
   "source": [
    "model = RandomForestClassifier(n_estimators=100, min_samples_split=100, random_state=1)"
   ]
  },
  {
   "cell_type": "code",
   "execution_count": 45,
   "id": "d109ebc4",
   "metadata": {},
   "outputs": [],
   "source": [
    "train = sp500.iloc[:-100]\n",
    "test = sp500.iloc[-100:]\n",
    "\n",
    "Predictors = [\"Close\", \"Open\", \"High\",\"Low\", \"Volume\"]"
   ]
  },
  {
   "cell_type": "code",
   "execution_count": 48,
   "id": "94018737",
   "metadata": {},
   "outputs": [
    {
     "data": {
      "text/html": [
       "<style>#sk-container-id-1 {color: black;background-color: white;}#sk-container-id-1 pre{padding: 0;}#sk-container-id-1 div.sk-toggleable {background-color: white;}#sk-container-id-1 label.sk-toggleable__label {cursor: pointer;display: block;width: 100%;margin-bottom: 0;padding: 0.3em;box-sizing: border-box;text-align: center;}#sk-container-id-1 label.sk-toggleable__label-arrow:before {content: \"▸\";float: left;margin-right: 0.25em;color: #696969;}#sk-container-id-1 label.sk-toggleable__label-arrow:hover:before {color: black;}#sk-container-id-1 div.sk-estimator:hover label.sk-toggleable__label-arrow:before {color: black;}#sk-container-id-1 div.sk-toggleable__content {max-height: 0;max-width: 0;overflow: hidden;text-align: left;background-color: #f0f8ff;}#sk-container-id-1 div.sk-toggleable__content pre {margin: 0.2em;color: black;border-radius: 0.25em;background-color: #f0f8ff;}#sk-container-id-1 input.sk-toggleable__control:checked~div.sk-toggleable__content {max-height: 200px;max-width: 100%;overflow: auto;}#sk-container-id-1 input.sk-toggleable__control:checked~label.sk-toggleable__label-arrow:before {content: \"▾\";}#sk-container-id-1 div.sk-estimator input.sk-toggleable__control:checked~label.sk-toggleable__label {background-color: #d4ebff;}#sk-container-id-1 div.sk-label input.sk-toggleable__control:checked~label.sk-toggleable__label {background-color: #d4ebff;}#sk-container-id-1 input.sk-hidden--visually {border: 0;clip: rect(1px 1px 1px 1px);clip: rect(1px, 1px, 1px, 1px);height: 1px;margin: -1px;overflow: hidden;padding: 0;position: absolute;width: 1px;}#sk-container-id-1 div.sk-estimator {font-family: monospace;background-color: #f0f8ff;border: 1px dotted black;border-radius: 0.25em;box-sizing: border-box;margin-bottom: 0.5em;}#sk-container-id-1 div.sk-estimator:hover {background-color: #d4ebff;}#sk-container-id-1 div.sk-parallel-item::after {content: \"\";width: 100%;border-bottom: 1px solid gray;flex-grow: 1;}#sk-container-id-1 div.sk-label:hover label.sk-toggleable__label {background-color: #d4ebff;}#sk-container-id-1 div.sk-serial::before {content: \"\";position: absolute;border-left: 1px solid gray;box-sizing: border-box;top: 0;bottom: 0;left: 50%;z-index: 0;}#sk-container-id-1 div.sk-serial {display: flex;flex-direction: column;align-items: center;background-color: white;padding-right: 0.2em;padding-left: 0.2em;position: relative;}#sk-container-id-1 div.sk-item {position: relative;z-index: 1;}#sk-container-id-1 div.sk-parallel {display: flex;align-items: stretch;justify-content: center;background-color: white;position: relative;}#sk-container-id-1 div.sk-item::before, #sk-container-id-1 div.sk-parallel-item::before {content: \"\";position: absolute;border-left: 1px solid gray;box-sizing: border-box;top: 0;bottom: 0;left: 50%;z-index: -1;}#sk-container-id-1 div.sk-parallel-item {display: flex;flex-direction: column;z-index: 1;position: relative;background-color: white;}#sk-container-id-1 div.sk-parallel-item:first-child::after {align-self: flex-end;width: 50%;}#sk-container-id-1 div.sk-parallel-item:last-child::after {align-self: flex-start;width: 50%;}#sk-container-id-1 div.sk-parallel-item:only-child::after {width: 0;}#sk-container-id-1 div.sk-dashed-wrapped {border: 1px dashed gray;margin: 0 0.4em 0.5em 0.4em;box-sizing: border-box;padding-bottom: 0.4em;background-color: white;}#sk-container-id-1 div.sk-label label {font-family: monospace;font-weight: bold;display: inline-block;line-height: 1.2em;}#sk-container-id-1 div.sk-label-container {text-align: center;}#sk-container-id-1 div.sk-container {/* jupyter's `normalize.less` sets `[hidden] { display: none; }` but bootstrap.min.css set `[hidden] { display: none !important; }` so we also need the `!important` here to be able to override the default hidden behavior on the sphinx rendered scikit-learn.org. See: https://github.com/scikit-learn/scikit-learn/issues/21755 */display: inline-block !important;position: relative;}#sk-container-id-1 div.sk-text-repr-fallback {display: none;}</style><div id=\"sk-container-id-1\" class=\"sk-top-container\"><div class=\"sk-text-repr-fallback\"><pre>RandomForestClassifier(min_samples_split=100, random_state=1)</pre><b>In a Jupyter environment, please rerun this cell to show the HTML representation or trust the notebook. <br />On GitHub, the HTML representation is unable to render, please try loading this page with nbviewer.org.</b></div><div class=\"sk-container\" hidden><div class=\"sk-item\"><div class=\"sk-estimator sk-toggleable\"><input class=\"sk-toggleable__control sk-hidden--visually\" id=\"sk-estimator-id-1\" type=\"checkbox\" checked><label for=\"sk-estimator-id-1\" class=\"sk-toggleable__label sk-toggleable__label-arrow\">RandomForestClassifier</label><div class=\"sk-toggleable__content\"><pre>RandomForestClassifier(min_samples_split=100, random_state=1)</pre></div></div></div></div></div>"
      ],
      "text/plain": [
       "RandomForestClassifier(min_samples_split=100, random_state=1)"
      ]
     },
     "execution_count": 48,
     "metadata": {},
     "output_type": "execute_result"
    }
   ],
   "source": [
    "model.fit(train[Predictors], train[\"Target\"])"
   ]
  },
  {
   "cell_type": "code",
   "execution_count": 50,
   "id": "461836a0",
   "metadata": {},
   "outputs": [],
   "source": [
    "from sklearn.metrics import precision_score"
   ]
  },
  {
   "cell_type": "code",
   "execution_count": 51,
   "id": "77ab00a1",
   "metadata": {},
   "outputs": [],
   "source": [
    "preds = model.predict(test[Predictors])"
   ]
  },
  {
   "cell_type": "code",
   "execution_count": 53,
   "id": "58089418",
   "metadata": {},
   "outputs": [],
   "source": [
    "preds = pd.Series(preds, index=test.index)"
   ]
  },
  {
   "cell_type": "code",
   "execution_count": 54,
   "id": "e74a7d4d",
   "metadata": {},
   "outputs": [
    {
     "data": {
      "text/plain": [
       "Date\n",
       "2022-04-20    1\n",
       "2022-04-21    0\n",
       "2022-04-22    0\n",
       "2022-04-25    0\n",
       "2022-04-26    1\n",
       "             ..\n",
       "2022-09-06    1\n",
       "2022-09-07    1\n",
       "2022-09-08    1\n",
       "2022-09-09    1\n",
       "2022-09-12    1\n",
       "Length: 100, dtype: int64"
      ]
     },
     "execution_count": 54,
     "metadata": {},
     "output_type": "execute_result"
    }
   ],
   "source": [
    "preds"
   ]
  },
  {
   "cell_type": "code",
   "execution_count": 58,
   "id": "b7dc79dc",
   "metadata": {},
   "outputs": [
    {
     "data": {
      "text/plain": [
       "48.717948717948715"
      ]
     },
     "execution_count": 58,
     "metadata": {},
     "output_type": "execute_result"
    }
   ],
   "source": [
    "precision_score(test[\"Target\"], preds)*100"
   ]
  },
  {
   "cell_type": "code",
   "execution_count": 63,
   "id": "d25e244b",
   "metadata": {},
   "outputs": [],
   "source": [
    "combined = pd.concat([test[\"Target\"], preds], axis=1)"
   ]
  },
  {
   "cell_type": "code",
   "execution_count": 64,
   "id": "89d995a4",
   "metadata": {},
   "outputs": [
    {
     "data": {
      "text/plain": [
       "<AxesSubplot:xlabel='Date'>"
      ]
     },
     "execution_count": 64,
     "metadata": {},
     "output_type": "execute_result"
    },
    {
     "data": {
      "image/png": "[encoded data removed]",
      "text/plain": [
       "<Figure size 432x288 with 1 Axes>"
      ]
     },
     "metadata": {
      "needs_background": "light"
     },
     "output_type": "display_data"
    }
   ],
   "source": [
    "combined.plot()"
   ]
  },
  {
   "cell_type": "code",
   "execution_count": 73,
   "id": "310e8292",
   "metadata": {},
   "outputs": [],
   "source": [
    "def predict(train, test, predictors, model):\n",
    "    model.fit(train[predictors], train[\"Target\"])\n",
    "    preds = model.predict(test[predictors])\n",
    "    preds = pd.Series(preds, index=test.index, name=\"Predictions\")\n",
    "    combined = pd.concat([test[\"Target\"], preds], axis=1)\n",
    "    return combined"
   ]
  },
  {
   "cell_type": "code",
   "execution_count": 74,
   "id": "1785082e",
   "metadata": {},
   "outputs": [],
   "source": [
    "def backtest(data, model, predictors, start=2500, step=250):\n",
    "    all_predictions = []\n",
    "\n",
    "    for i in range(start, data.shape[0], step):\n",
    "        train = data.iloc[0:i].copy()\n",
    "        test = data.iloc[i:(i+step)].copy()\n",
    "        predictions = predict(train, test, predictors, model)\n",
    "        all_predictions.append(predictions)\n",
    "    \n",
    "    return pd.concat(all_predictions)"
   ]
  },
  {
   "cell_type": "code",
   "execution_count": 75,
   "id": "10038071",
   "metadata": {},
   "outputs": [],
   "source": [
    "predictions = backtest(sp500, model, Predictors)"
   ]
  },
  {
   "cell_type": "code",
   "execution_count": 77,
   "id": "e3034e67",
   "metadata": {},
   "outputs": [
    {
     "data": {
      "text/plain": [
       "<AxesSubplot:xlabel='Date'>"
      ]
     },
     "execution_count": 77,
     "metadata": {},
     "output_type": "execute_result"
    },
    {
     "data": {
      "image/png": "[encoded data removed]",
      "text/plain": [
       "<Figure size 432x288 with 1 Axes>"
      ]
     },
     "metadata": {
      "needs_background": "light"
     },
     "output_type": "display_data"
    }
   ],
   "source": [
    "predictions.plot()"
   ]
  },
  {
   "cell_type": "code",
   "execution_count": 80,
   "id": "87a03cc2",
   "metadata": {},
   "outputs": [
    {
     "data": {
      "text/plain": [
       "0    3249\n",
       "1    2489\n",
       "Name: Predictions, dtype: int64"
      ]
     },
     "execution_count": 80,
     "metadata": {},
     "output_type": "execute_result"
    }
   ],
   "source": [
    "predictions[\"Predictions\"].value_counts()"
   ]
  },
  {
   "cell_type": "code",
   "execution_count": 82,
   "id": "235a8fc1",
   "metadata": {},
   "outputs": [
    {
     "data": {
      "text/plain": [
       "0.5347529128163921"
      ]
     },
     "execution_count": 82,
     "metadata": {},
     "output_type": "execute_result"
    }
   ],
   "source": [
    "precision_score(predictions[\"Target\"], predictions[\"Predictions\"])"
   ]
  },
  {
   "cell_type": "code",
   "execution_count": 84,
   "id": "2b897add",
   "metadata": {},
   "outputs": [
    {
     "data": {
      "text/plain": [
       "1    0.536075\n",
       "0    0.463925\n",
       "Name: Target, dtype: float64"
      ]
     },
     "execution_count": 84,
     "metadata": {},
     "output_type": "execute_result"
    }
   ],
   "source": [
    "predictions[\"Target\"].value_counts() / predictions.shape[0]"
   ]
  },
  {
   "cell_type": "code",
   "execution_count": 106,
   "id": "fc2dda6b",
   "metadata": {},
   "outputs": [
    {
     "name": "stderr",
     "output_type": "stream",
     "text": [
      "/var/folders/88/vlrz89sn15jdmcdgfjsnyvjw0000gn/T/ipykernel_82959/10987703.py:8: SettingWithCopyWarning: \n",
      "A value is trying to be set on a copy of a slice from a DataFrame.\n",
      "Try using .loc[row_indexer,col_indexer] = value instead\n",
      "\n",
      "See the caveats in the documentation: https://pandas.pydata.org/pandas-docs/stable/user_guide/indexing.html#returning-a-view-versus-a-copy\n",
      "  sp500[ratio_column] = sp500[\"Close\"] / rolling_averages[\"Close\"]\n",
      "/var/folders/88/vlrz89sn15jdmcdgfjsnyvjw0000gn/T/ipykernel_82959/10987703.py:11: SettingWithCopyWarning: \n",
      "A value is trying to be set on a copy of a slice from a DataFrame.\n",
      "Try using .loc[row_indexer,col_indexer] = value instead\n",
      "\n",
      "See the caveats in the documentation: https://pandas.pydata.org/pandas-docs/stable/user_guide/indexing.html#returning-a-view-versus-a-copy\n",
      "  sp500[trend_column] = sp500.shift(1).rolling(horizon).sum()[\"Target\"]\n"
     ]
    }
   ],
   "source": [
    "horizons = [2,5,60,250,1000]\n",
    "new_predictors = []\n",
    "\n",
    "for horizon in horizons:\n",
    "    rolling_averages = sp500.rolling(horizon).mean()\n",
    "    \n",
    "    ratio_column = f\"Close_Ratio_{horizon}\"\n",
    "    sp500[ratio_column] = sp500[\"Close\"] / rolling_averages[\"Close\"]\n",
    "    \n",
    "    trend_column = f\"Trend_{horizon}\"\n",
    "    sp500[trend_column] = sp500.shift(1).rolling(horizon).sum()[\"Target\"]\n",
    "    \n",
    "    new_predictors+= [ratio_column, trend_column]"
   ]
  },
  {
   "cell_type": "code",
   "execution_count": 107,
   "id": "1e0d8ecc",
   "metadata": {},
   "outputs": [],
   "source": [
    "\n",
    "sp500 = sp500.dropna(subset=sp500.columns[sp500.columns != \"Tomorrow\"])"
   ]
  },
  {
   "cell_type": "code",
   "execution_count": 108,
   "id": "185443e7",
   "metadata": {},
   "outputs": [],
   "source": [
    "model = RandomForestClassifier(n_estimators=200, min_samples_split=50, random_state=1)"
   ]
  },
  {
   "cell_type": "code",
   "execution_count": 109,
   "id": "22522bb7",
   "metadata": {},
   "outputs": [],
   "source": [
    "def predict(train, test, predictors, model):\n",
    "    model.fit(train[predictors], train[\"Target\"])\n",
    "    preds = model.predict_proba(test[predictors])[:,1]\n",
    "    preds[preds >=.6] = 1\n",
    "    preds[preds <.6] = 0\n",
    "    preds = pd.Series(preds, index=test.index, name=\"Predictions\")\n",
    "    combined = pd.concat([test[\"Target\"], preds], axis=1)\n",
    "    return combined"
   ]
  },
  {
   "cell_type": "code",
   "execution_count": 110,
   "id": "2ddf2677",
   "metadata": {},
   "outputs": [],
   "source": [
    "predictions = backtest(sp500, model, new_predictors)"
   ]
  },
  {
   "cell_type": "code",
   "execution_count": 112,
   "id": "ec5eae2c",
   "metadata": {},
   "outputs": [
    {
     "data": {
      "text/plain": [
       "0.0    3199\n",
       "1.0     539\n",
       "Name: Predictions, dtype: int64"
      ]
     },
     "execution_count": 112,
     "metadata": {},
     "output_type": "execute_result"
    }
   ],
   "source": [
    "predictions[\"Predictions\"].value_counts()"
   ]
  },
  {
   "cell_type": "code",
   "execution_count": 114,
   "id": "9d4075e5",
   "metadata": {},
   "outputs": [
    {
     "data": {
      "text/plain": [
       "0.562152133580705"
      ]
     },
     "execution_count": 114,
     "metadata": {},
     "output_type": "execute_result"
    }
   ],
   "source": [
    "precision_score(predictions[\"Target\"], predictions[\"Predictions\"])"
   ]
  },
  {
   "cell_type": "code",
   "execution_count": 115,
   "id": "212a8ea4",
   "metadata": {},
   "outputs": [
    {
     "data": {
      "text/plain": [
       "56.21521335807051"
      ]
     },
     "execution_count": 115,
     "metadata": {},
     "output_type": "execute_result"
    }
   ],
   "source": [
    "precision_score(predictions[\"Target\"], predictions[\"Predictions\"])*100"
   ]
  },
  {
   "cell_type": "code",
   "execution_count": 116,
   "id": "f183351b",
   "metadata": {},
   "outputs": [],
   "source": [
    "final_model_accuracy = precision_score(predictions[\"Target\"], predictions[\"Predictions\"])*100"
   ]
  },
  {
   "cell_type": "code",
   "execution_count": 120,
   "id": "fc565c24",
   "metadata": {},
   "outputs": [
    {
     "name": "stdout",
     "output_type": "stream",
     "text": [
      "56 %\n"
     ]
    }
   ],
   "source": [
    "print(int(final_model_accuracy),'%')"
   ]
  },
  {
   "cell_type": "code",
   "execution_count": null,
   "id": "d4a4b1c0",
   "metadata": {},
   "outputs": [],
   "source": []
  }
 ],
 "metadata": {
  "kernelspec": {
   "display_name": "Python 3 (ipykernel)",
   "language": "python",
   "name": "python3"
  },
  "language_info": {
   "codemirror_mode": {
    "name": "ipython",
    "version": 3
   },
   "file_extension": ".py",
   "mimetype": "text/x-python",
   "name": "python",
   "nbconvert_exporter": "python",
   "pygments_lexer": "ipython3",
   "version": "3.9.12"
  }
 },
 "nbformat": 4,
 "nbformat_minor": 5
}
